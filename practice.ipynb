{
 "cells": [
  {
   "cell_type": "code",
   "execution_count": 6,
   "id": "ed20fd64",
   "metadata": {},
   "outputs": [],
   "source": [
    "import pandas as pd\n",
    "import numpy as np"
   ]
  },
  {
   "cell_type": "code",
   "execution_count": 20,
   "id": "cc50ef79",
   "metadata": {},
   "outputs": [],
   "source": [
    "lst=[1,2,3,4,5]\n",
    "list=np.array(lst)\n",
    "dict={'Rohini':'28',\"Bhushan\":'31'}"
   ]
  },
  {
   "cell_type": "code",
   "execution_count": 26,
   "id": "dac0cb2b",
   "metadata": {},
   "outputs": [],
   "source": [
    "#pd.Series(list)\n",
    "#pd.Series(lst)\n",
    "a=pd.Series(dict)\n"
   ]
  },
  {
   "cell_type": "code",
   "execution_count": 31,
   "id": "766b066d",
   "metadata": {},
   "outputs": [
    {
     "data": {
      "text/html": [
       "<div>\n",
       "<style scoped>\n",
       "    .dataframe tbody tr th:only-of-type {\n",
       "        vertical-align: middle;\n",
       "    }\n",
       "\n",
       "    .dataframe tbody tr th {\n",
       "        vertical-align: top;\n",
       "    }\n",
       "\n",
       "    .dataframe thead th {\n",
       "        text-align: right;\n",
       "    }\n",
       "</style>\n",
       "<table border=\"1\" class=\"dataframe\">\n",
       "  <thead>\n",
       "    <tr style=\"text-align: right;\">\n",
       "      <th></th>\n",
       "      <th>index</th>\n",
       "      <th>0</th>\n",
       "    </tr>\n",
       "  </thead>\n",
       "  <tbody>\n",
       "    <tr>\n",
       "      <th>0</th>\n",
       "      <td>Rohini</td>\n",
       "      <td>28</td>\n",
       "    </tr>\n",
       "    <tr>\n",
       "      <th>1</th>\n",
       "      <td>Bhushan</td>\n",
       "      <td>31</td>\n",
       "    </tr>\n",
       "  </tbody>\n",
       "</table>\n",
       "</div>"
      ],
      "text/plain": [
       "     index   0\n",
       "0   Rohini  28\n",
       "1  Bhushan  31"
      ]
     },
     "execution_count": 31,
     "metadata": {},
     "output_type": "execute_result"
    }
   ],
   "source": [
    "df=a.to_frame().reset_index()\n",
    "df"
   ]
  },
  {
   "cell_type": "code",
   "execution_count": 37,
   "id": "f35da368",
   "metadata": {},
   "outputs": [
    {
     "data": {
      "text/plain": [
       "pandas.core.frame.DataFrame"
      ]
     },
     "execution_count": 37,
     "metadata": {},
     "output_type": "execute_result"
    }
   ],
   "source": [
    "Sample_data= {'X':[78,85,96,80,86], 'Y':[84,94,89,83,86],'Z':[86,97,96,72,83]}\n",
    "df=pd.DataFrame(Sample_data)\n",
    "type(df)"
   ]
  },
  {
   "cell_type": "code",
   "execution_count": 41,
   "id": "a194c907",
   "metadata": {},
   "outputs": [
    {
     "name": "stdout",
     "output_type": "stream",
     "text": [
      "        name  score  attempts qualify\n",
      "a  Anastasia   12.5         1     yes\n",
      "b       Dima    9.0         3      no\n",
      "c  Katherine   16.5         2     yes\n",
      "d      James    NaN         3      no\n",
      "e      Emily    9.0         2      no\n",
      "f    Michael   20.0         3     yes\n",
      "g    Matthew   14.5         1     yes\n",
      "h      Laura    NaN         1      no\n",
      "i      Kevin    8.0         2      no\n",
      "j      Jonas   19.0         1     yes\n"
     ]
    }
   ],
   "source": [
    "exam_data = {'name': ['Anastasia', 'Dima', 'Katherine', 'James', 'Emily', 'Michael', 'Matthew', 'Laura', 'Kevin', 'Jonas'],\n",
    "'score': [12.5, 9, 16.5, np.nan, 9, 20, 14.5, np.nan, 8, 19],\n",
    "'attempts': [1, 3, 2, 3, 2, 3, 1, 1, 2, 1],\n",
    "'qualify': ['yes', 'no', 'yes', 'no', 'no', 'yes', 'yes', 'no', 'no', 'yes']}\n",
    "labels = ['a', 'b', 'c', 'd', 'e', 'f', 'g', 'h', 'i', 'j']\n",
    "\n",
    "\n",
    "df=pd.DataFrame(exam_data,index=labels)\n",
    "print(df)"
   ]
  },
  {
   "cell_type": "code",
   "execution_count": 51,
   "id": "870e1de5",
   "metadata": {},
   "outputs": [
    {
     "name": "stdout",
     "output_type": "stream",
     "text": [
      "        name  score\n",
      "a  Anastasia   12.5\n",
      "b       Dima    9.0\n",
      "c  Katherine   16.5\n",
      "d      James    NaN\n",
      "e      Emily    9.0\n",
      "f    Michael   20.0\n",
      "g    Matthew   14.5\n",
      "h      Laura    NaN\n",
      "i      Kevin    8.0\n",
      "j      Jonas   19.0\n"
     ]
    }
   ],
   "source": [
    "exam_data = {'name': ['Anastasia', 'Dima', 'Katherine', 'James', 'Emily', 'Michael', 'Matthew', 'Laura', 'Kevin', 'Jonas'],\n",
    "'score': [12.5, 9, 16.5, np.nan, 9, 20, 14.5, np.nan, 8, 19],\n",
    "'attempts': [1, 3, 2, 3, 2, 3, 1, 1, 2, 1],\n",
    "'qualify': ['yes', 'no', 'yes', 'no', 'no', 'yes', 'yes', 'no', 'no', 'yes']}\n",
    "labels = ['a', 'b', 'c', 'd', 'e', 'f', 'g', 'h', 'i', 'j']\n",
    "\n",
    "df=pd.DataFrame(exam_data,index=labels)\n",
    "print(df[['name','score']])\n",
    "df."
   ]
  },
  {
   "cell_type": "code",
   "execution_count": 2,
   "id": "4cd93cc5",
   "metadata": {},
   "outputs": [
    {
     "name": "stdout",
     "output_type": "stream",
     "text": [
      "Enter the stringrohini bhushan bramhi indraja narendra\n",
      "['Rohini', 'Bhushan', 'Bramhi', 'Indraja', 'Narendra']\n",
      "Below are Sorted words\n",
      "Bhushan\n",
      "Bramhi\n",
      "Indraja\n",
      "Narendra\n",
      "Rohini\n"
     ]
    }
   ],
   "source": [
    "my_string=input(\"Enter the string\")\n",
    "words=[word.capitalize() for word in my_string.split()]\n",
    "print(words)\n",
    "words.sort()\n",
    "print(\"Below are Sorted words\")\n",
    "for word in words:\n",
    "    print(word)"
   ]
  },
  {
   "cell_type": "code",
   "execution_count": 9,
   "id": "d65aec4b",
   "metadata": {},
   "outputs": [
    {
     "name": "stdout",
     "output_type": "stream",
     "text": [
      " enter the string rohini\n",
      " rhn\n"
     ]
    }
   ],
   "source": [
    "vowels='a e i o u'\n",
    "my_str=input(\" enter the string \")\n",
    "no_vowels=\" \"\n",
    "for i in my_str:\n",
    "    if i not in vowels:\n",
    "        no_vowels=no_vowels+i\n",
    "\n",
    "print(no_vowels)\n",
    "        \n",
    "    "
   ]
  },
  {
   "cell_type": "code",
   "execution_count": 13,
   "id": "b6622cd4",
   "metadata": {},
   "outputs": [
    {
     "name": "stdout",
     "output_type": "stream",
     "text": [
      "2\n"
     ]
    }
   ],
   "source": [
    "my_list=[100,2,887,87,23]\n",
    "minimum=my_list[0]\n",
    "for i in my_list:\n",
    "    if i<minimum:\n",
    "        minimum=i\n",
    "print(minimum)"
   ]
  },
  {
   "cell_type": "code",
   "execution_count": 15,
   "id": "805bab90",
   "metadata": {},
   "outputs": [
    {
     "name": "stdout",
     "output_type": "stream",
     "text": [
      "1209\n"
     ]
    }
   ],
   "source": [
    "my_list=[23,4,56,998,1209]\n",
    "minimum=my_list[0]\n",
    "for i in my_list:\n",
    "    if i>minimum:\n",
    "        minimum=i\n",
    "print(minimum)"
   ]
  },
  {
   "cell_type": "code",
   "execution_count": 24,
   "id": "d6e192e1",
   "metadata": {},
   "outputs": [
    {
     "name": "stdout",
     "output_type": "stream",
     "text": [
      "[{'name': 'Alice', 'city': {'name': 'New York', 'population': 8550000}, 'age': 30}, {'name': 'Bob', 'city': {'name': 'San Francisco', 'population': 883000}, 'age': 25}, {'name': 'Charlie', 'city': {'name': 'Los Angeles', 'population': 3990000}, 'age': 22}]\n"
     ]
    }
   ],
   "source": [
    "import json\n",
    "with open('sample.json') as f:\n",
    "    a=json.load(f)\n",
    "    print(a)\n"
   ]
  },
  {
   "cell_type": "code",
   "execution_count": 17,
   "id": "fce19962",
   "metadata": {},
   "outputs": [
    {
     "name": "stdout",
     "output_type": "stream",
     "text": [
      "[{'name': 'Alice', 'city': {'name': 'New York', 'population': 8550000}, 'age': 30}, {'name': 'Bob', 'city': {'name': 'San Francisco', 'population': 883000}, 'age': 25}, {'name': 'Charlie', 'city': {'name': 'Los Angeles', 'population': 3990000}, 'age': 22}]\n"
     ]
    }
   ],
   "source": [
    "import pandas as pd\n",
    "with open('sample.json')as f:\n",
    "    data=json.load(f)\n",
    "    print(data)"
   ]
  },
  {
   "cell_type": "code",
   "execution_count": 26,
   "id": "6d8555d3",
   "metadata": {},
   "outputs": [
    {
     "name": "stdout",
     "output_type": "stream",
     "text": [
      "      name                                             city  age\n",
      "0    Alice      {'name': 'New York', 'population': 8550000}   30\n",
      "1      Bob  {'name': 'San Francisco', 'population': 883000}   25\n",
      "2  Charlie   {'name': 'Los Angeles', 'population': 3990000}   22\n"
     ]
    }
   ],
   "source": [
    "import pandas as pd\n",
    "\n",
    "df=pd.read_json('sample.json')\n",
    "print(df)\n",
    "df.to_csv('new1.csv')\n"
   ]
  },
  {
   "cell_type": "code",
   "execution_count": 10,
   "id": "46250980",
   "metadata": {},
   "outputs": [
    {
     "name": "stdout",
     "output_type": "stream",
     "text": [
      "nahsuhB \n"
     ]
    }
   ],
   "source": [
    "stg='Bhushan'\n",
    "r_stg=\" \"\n",
    "for i in stg:\n",
    "    r_stg=i+r_stg\n",
    "print(r_stg)"
   ]
  },
  {
   "cell_type": "code",
   "execution_count": 11,
   "id": "da458cf3",
   "metadata": {},
   "outputs": [
    {
     "data": {
      "text/plain": [
       "'inihoR '"
      ]
     },
     "execution_count": 11,
     "metadata": {},
     "output_type": "execute_result"
    }
   ],
   "source": [
    "def reverse(x):\n",
    "    r_stg=\" \"\n",
    "    for i in x:\n",
    "        r_stg=i+r_stg\n",
    "    return r_stg\n",
    "reverse('Rohini')"
   ]
  },
  {
   "cell_type": "code",
   "execution_count": 22,
   "id": "661a2298",
   "metadata": {},
   "outputs": [
    {
     "name": "stdout",
     "output_type": "stream",
     "text": [
      " iniho\n"
     ]
    }
   ],
   "source": [
    "a='Rohini'\n",
    "r_stg=\" \"\n",
    "i=len(a)-1\n",
    "while i>0:\n",
    "    r_stg=r_stg+a[i]\n",
    "    \n",
    "    i=i-1\n",
    "print(r_stg)\n",
    "\n",
    "    "
   ]
  },
  {
   "cell_type": "code",
   "execution_count": 8,
   "id": "5a17a55d",
   "metadata": {},
   "outputs": [
    {
     "name": "stdout",
     "output_type": "stream",
     "text": [
      "a\n",
      "r\n",
      "d\n",
      "n\n",
      "e\n",
      "r\n",
      "a\n",
      "ardnera\n"
     ]
    }
   ],
   "source": [
    "text = 'Narendra'\n",
    "reversed_string = ''\n",
    "i = len(text)-1\n",
    "\n",
    "while i > 0:\n",
    "    reversed_string += text[i\n",
    "\n",
    "    i -= 1\n",
    "\n",
    "print(reversed_string)\n"
   ]
  },
  {
   "cell_type": "code",
   "execution_count": 3,
   "id": "2a4c6abf",
   "metadata": {},
   "outputs": [
    {
     "name": "stdout",
     "output_type": "stream",
     "text": [
      "N \n",
      "aN \n",
      "raN \n",
      "eraN \n",
      "neraN \n",
      "dneraN \n",
      "rdneraN \n",
      "ardneraN \n",
      "ardneraN \n"
     ]
    }
   ],
   "source": [
    "name=\"Narendra\"\n",
    "stg=\" \"\n",
    "for i in name:\n",
    "    stg=i+stg\n",
    "print(stg)\n",
    "    "
   ]
  },
  {
   "cell_type": "code",
   "execution_count": null,
   "id": "33905c83",
   "metadata": {},
   "outputs": [],
   "source": []
  }
 ],
 "metadata": {
  "kernelspec": {
   "display_name": "Python 3 (ipykernel)",
   "language": "python",
   "name": "python3"
  },
  "language_info": {
   "codemirror_mode": {
    "name": "ipython",
    "version": 3
   },
   "file_extension": ".py",
   "mimetype": "text/x-python",
   "name": "python",
   "nbconvert_exporter": "python",
   "pygments_lexer": "ipython3",
   "version": "3.11.5"
  }
 },
 "nbformat": 4,
 "nbformat_minor": 5
}
